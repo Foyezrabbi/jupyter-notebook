{
 "cells": [
  {
   "cell_type": "code",
   "execution_count": 1,
   "id": "2f25b5d5",
   "metadata": {},
   "outputs": [
    {
     "data": {
      "text/plain": [
       "(220, b'2.0.0 Ready to start TLS')"
      ]
     },
     "execution_count": 1,
     "metadata": {},
     "output_type": "execute_result"
    }
   ],
   "source": [
    "import smtplib\n",
    "smtpObj = smtplib.SMTP('smtp.gmail.com', 587)\n",
    "type(smtpObj)\n",
    "smtpObj.ehlo()\n",
    "smtpObj.starttls()"
   ]
  },
  {
   "cell_type": "code",
   "execution_count": 2,
   "id": "be748f28",
   "metadata": {},
   "outputs": [],
   "source": [
    "from_addr = 'tomakeabot@gmail.com'\n",
    "password = 'qwldkdomlgkwpzxe'"
   ]
  },
  {
   "cell_type": "code",
   "execution_count": 3,
   "id": "3149d81a",
   "metadata": {},
   "outputs": [
    {
     "data": {
      "text/plain": [
       "(235, b'2.7.0 Accepted')"
      ]
     },
     "execution_count": 3,
     "metadata": {},
     "output_type": "execute_result"
    }
   ],
   "source": [
    "smtpObj.login(from_addr, password)"
   ]
  },
  {
   "cell_type": "code",
   "execution_count": 4,
   "id": "bf56b62d",
   "metadata": {},
   "outputs": [],
   "source": [
    "to_addrs = 'ranarmlove10@gmail.com'\n",
    "msg = 'this is for test'"
   ]
  },
  {
   "cell_type": "code",
   "execution_count": 5,
   "id": "e9838774",
   "metadata": {},
   "outputs": [
    {
     "data": {
      "text/plain": [
       "(221,\n",
       " b'2.0.0 closing connection m20-20020aa78a14000000b005a8c16fcb78sm3143049pfa.56 - gsmtp')"
      ]
     },
     "execution_count": 5,
     "metadata": {},
     "output_type": "execute_result"
    }
   ],
   "source": [
    "smtpObj.sendmail(from_addr, to_addrs, msg)\n",
    "smtpObj.quit()"
   ]
  },
  {
   "cell_type": "code",
   "execution_count": null,
   "id": "c58a738d",
   "metadata": {},
   "outputs": [],
   "source": []
  }
 ],
 "metadata": {
  "kernelspec": {
   "display_name": "Python 3 (ipykernel)",
   "language": "python",
   "name": "python3"
  },
  "language_info": {
   "codemirror_mode": {
    "name": "ipython",
    "version": 3
   },
   "file_extension": ".py",
   "mimetype": "text/x-python",
   "name": "python",
   "nbconvert_exporter": "python",
   "pygments_lexer": "ipython3",
   "version": "3.9.7"
  }
 },
 "nbformat": 4,
 "nbformat_minor": 5
}
